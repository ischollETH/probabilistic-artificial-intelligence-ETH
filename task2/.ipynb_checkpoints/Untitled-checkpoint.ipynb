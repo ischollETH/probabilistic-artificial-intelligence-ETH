{
 "cells": [
  {
   "cell_type": "markdown",
   "metadata": {},
   "source": [
    "# PAI TASK 2 NOTEBOOK"
   ]
  },
  {
   "cell_type": "code",
   "execution_count": 1,
   "metadata": {},
   "outputs": [],
   "source": [
    "import numpy as np\n",
    "import torch\n",
    "import os\n",
    "from matplotlib import pyplot as plt\n",
    "from sklearn.metrics import average_precision_score, roc_auc_score\n",
    "from torch import nn\n",
    "from torch.nn import functional as F\n",
    "from tqdm import trange, tqdm\n"
   ]
  },
  {
   "cell_type": "code",
   "execution_count": 2,
   "metadata": {},
   "outputs": [
    {
     "ename": "SyntaxError",
     "evalue": "invalid character in identifier (solution.py, line 422)",
     "output_type": "error",
     "traceback": [
      "Traceback \u001b[0;36m(most recent call last)\u001b[0m:\n",
      "  File \u001b[1;32m\"/home/ischoll/anaconda3/envs/pai/lib/python3.7/site-packages/IPython/core/interactiveshell.py\"\u001b[0m, line \u001b[1;32m3441\u001b[0m, in \u001b[1;35mrun_code\u001b[0m\n    exec(code_obj, self.user_global_ns, self.user_ns)\n",
      "\u001b[0;36m  File \u001b[0;32m\"/tmp/ipykernel_6102/1840705826.py\"\u001b[0;36m, line \u001b[0;32m3\u001b[0;36m, in \u001b[0;35m<module>\u001b[0;36m\u001b[0m\n\u001b[0;31m    import solution.py\u001b[0m\n",
      "\u001b[0;36m  File \u001b[0;32m\"/home/ischoll/ETH/MA1/PAI/Projects/task2_handout_d5ba51ff/solution.py\"\u001b[0;36m, line \u001b[0;32m422\u001b[0m\n\u001b[0;31m    torch.sum(torch.log((1/torch.sqrt(2*math.pi*sigma²))*torch.exp(-0.5*values²/sigma²)))\u001b[0m\n\u001b[0m                                                     ^\u001b[0m\n\u001b[0;31mSyntaxError\u001b[0m\u001b[0;31m:\u001b[0m invalid character in identifier\n"
     ]
    }
   ],
   "source": [
    "#import \n",
    "\n",
    "import solution.py"
   ]
  },
  {
   "cell_type": "code",
   "execution_count": 4,
   "metadata": {},
   "outputs": [
    {
     "name": "stdout",
     "output_type": "stream",
     "text": [
      "torch.Size([10, 12])\n",
      "torch.Size([10, 10, 12])\n",
      "tensor([[4.5000, 4.5000, 4.5000, 4.5000, 4.5000, 4.5000, 4.5000, 4.5000, 4.5000,\n",
      "         4.5000, 4.5000, 4.5000],\n",
      "        [9.0000, 9.0000, 9.0000, 9.0000, 9.0000, 9.0000, 9.0000, 9.0000, 9.0000,\n",
      "         9.0000, 9.0000, 9.0000],\n",
      "        [4.5000, 4.5000, 4.5000, 4.5000, 4.5000, 4.5000, 4.5000, 4.5000, 4.5000,\n",
      "         4.5000, 4.5000, 4.5000],\n",
      "        [4.5000, 4.5000, 4.5000, 4.5000, 4.5000, 4.5000, 4.5000, 4.5000, 4.5000,\n",
      "         4.5000, 4.5000, 4.5000],\n",
      "        [4.5000, 4.5000, 4.5000, 4.5000, 4.5000, 4.5000, 4.5000, 4.5000, 4.5000,\n",
      "         4.5000, 4.5000, 4.5000],\n",
      "        [4.5000, 4.5000, 4.5000, 4.5000, 4.5000, 4.5000, 4.5000, 4.5000, 4.5000,\n",
      "         4.5000, 4.5000, 4.5000],\n",
      "        [4.5000, 4.5000, 4.5000, 4.5000, 4.5000, 4.5000, 4.5000, 4.5000, 4.5000,\n",
      "         4.5000, 4.5000, 4.5000],\n",
      "        [4.5000, 4.5000, 4.5000, 4.5000, 4.5000, 4.5000, 4.5000, 4.5000, 4.5000,\n",
      "         4.5000, 4.5000, 4.5000],\n",
      "        [4.5000, 4.5000, 4.5000, 4.5000, 4.5000, 4.5000, 4.5000, 4.5000, 4.5000,\n",
      "         4.5000, 4.5000, 4.5000],\n",
      "        [4.5000, 4.5000, 4.5000, 4.5000, 4.5000, 4.5000, 4.5000, 4.5000, 4.5000,\n",
      "         4.5000, 4.5000, 4.5000]])\n"
     ]
    }
   ],
   "source": [
    "N1,N2 = 10,12\n",
    "x = torch.randn(N1,N2)\n",
    "\n",
    "x = torch.ones(N1,N2)\n",
    "\n",
    "x[1] = 2\n",
    "\n",
    "def f(x):\n",
    "    return x\n",
    "\n",
    "l = [f(x)*i for i in range(10)]\n",
    "\n",
    "m = torch.mean(torch.stack(l), dim=0)\n",
    "\n",
    "print(m.shape)\n",
    "print(torch.stack(l).shape)\n",
    "print(m)"
   ]
  },
  {
   "cell_type": "code",
   "execution_count": 5,
   "metadata": {},
   "outputs": [
    {
     "name": "stdout",
     "output_type": "stream",
     "text": [
      "tensor([[0.1000, 0.1000, 0.1000, 0.1000, 0.1000, 0.1000, 0.1000, 0.1000, 0.1000,\n",
      "         0.1000],\n",
      "        [0.1000, 0.1000, 0.1000, 0.1000, 0.1000, 0.1000, 0.1000, 0.1000, 0.1000,\n",
      "         0.1000],\n",
      "        [0.1000, 0.1000, 0.1000, 0.1000, 0.1000, 0.1000, 0.1000, 0.1000, 0.1000,\n",
      "         0.1000],\n",
      "        [0.1000, 0.1000, 0.1000, 0.1000, 0.1000, 0.1000, 0.1000, 0.1000, 0.1000,\n",
      "         0.1000],\n",
      "        [0.1000, 0.1000, 0.1000, 0.1000, 0.1000, 0.1000, 0.1000, 0.1000, 0.1000,\n",
      "         0.1000]])\n"
     ]
    }
   ],
   "source": [
    "N1,N2 = 10, 5\n",
    "x = torch.abs(torch.randn(N2,N1))\n",
    "x = torch.abs(torch.ones(N2,N1))\n",
    "\n",
    "#xn = x/torch.norm(x, p=1, dim=1)\n",
    "xn = F.normalize(x, p=1, dim=1)\n",
    "\n",
    "print(xn)"
   ]
  },
  {
   "cell_type": "code",
   "execution_count": 7,
   "metadata": {},
   "outputs": [
    {
     "name": "stderr",
     "output_type": "stream",
     "text": [
      "100%|████████████████████████████████████████| 10/10 [00:00<00:00, 46500.04it/s]"
     ]
    },
    {
     "name": "stdout",
     "output_type": "stream",
     "text": [
      "tensor([[4.5000, 4.5000, 4.5000, 4.5000, 4.5000, 4.5000, 4.5000, 4.5000, 4.5000,\n",
      "         4.5000, 4.5000, 4.5000],\n",
      "        [4.5000, 4.5000, 4.5000, 4.5000, 4.5000, 4.5000, 4.5000, 4.5000, 4.5000,\n",
      "         4.5000, 4.5000, 4.5000],\n",
      "        [4.5000, 4.5000, 4.5000, 4.5000, 4.5000, 4.5000, 4.5000, 4.5000, 4.5000,\n",
      "         4.5000, 4.5000, 4.5000],\n",
      "        [4.5000, 4.5000, 4.5000, 4.5000, 4.5000, 4.5000, 4.5000, 4.5000, 4.5000,\n",
      "         4.5000, 4.5000, 4.5000],\n",
      "        [4.5000, 4.5000, 4.5000, 4.5000, 4.5000, 4.5000, 4.5000, 4.5000, 4.5000,\n",
      "         4.5000, 4.5000, 4.5000],\n",
      "        [4.5000, 4.5000, 4.5000, 4.5000, 4.5000, 4.5000, 4.5000, 4.5000, 4.5000,\n",
      "         4.5000, 4.5000, 4.5000],\n",
      "        [4.5000, 4.5000, 4.5000, 4.5000, 4.5000, 4.5000, 4.5000, 4.5000, 4.5000,\n",
      "         4.5000, 4.5000, 4.5000],\n",
      "        [4.5000, 4.5000, 4.5000, 4.5000, 4.5000, 4.5000, 4.5000, 4.5000, 4.5000,\n",
      "         4.5000, 4.5000, 4.5000],\n",
      "        [4.5000, 4.5000, 4.5000, 4.5000, 4.5000, 4.5000, 4.5000, 4.5000, 4.5000,\n",
      "         4.5000, 4.5000, 4.5000],\n",
      "        [4.5000, 4.5000, 4.5000, 4.5000, 4.5000, 4.5000, 4.5000, 4.5000, 4.5000,\n",
      "         4.5000, 4.5000, 4.5000]])\n"
     ]
    },
    {
     "name": "stderr",
     "output_type": "stream",
     "text": [
      "\n"
     ]
    }
   ],
   "source": [
    "#test output probabilities\n",
    "\n",
    "N1,N2 = 10,12\n",
    "x = torch.randn(N1,N2)\n",
    "x = torch.ones(N1,N2)\n",
    "\n",
    "pred_list = []\n",
    "for i in tqdm(range(10)):\n",
    "    pred = x*i\n",
    "    pred_list.append(pred)\n",
    "\n",
    "#preds = torch.cat(pred_list, dim=0)\n",
    "preds = torch.stack(pred_list, dim=0)\n",
    "\n",
    "p = torch.mean(preds,dim = 0)\n",
    "print(p)"
   ]
  },
  {
   "cell_type": "code",
   "execution_count": 11,
   "metadata": {},
   "outputs": [],
   "source": [
    "def load_rotated_mnist():\n",
    "    '''\n",
    "    The difference between MNIST and Rotated MNIST is that Rotated MNIST has\n",
    "    rotated *test* images.\n",
    "    '''\n",
    "\n",
    "    mnist_path = \"fmnist.npz\"\n",
    "    if not os.path.isfile(mnist_path):\n",
    "        mnist_path = os.path.join(os.path.dirname(os.path.abspath(__file__)), \"fmnist.npz\")\n",
    "\n",
    "    data = np.load(mnist_path)\n",
    "\n",
    "    x_train = torch.from_numpy(data[\"x_train\"]).reshape([-1, 784])\n",
    "    y_train = torch.from_numpy(data[\"y_train\"])\n",
    "\n",
    "    dataset_train = torch.utils.data.TensorDataset(x_train, y_train)\n",
    "    \n",
    "    #x_test = torch.from_numpy(data[\"x_test\"]).reshape([-1, 784])\n",
    "    #y_test = torch.from_numpy(data[\"y_test\"])\n",
    "\n",
    "    #dataset_test = torch.utils.data.TensorDataset(x_test, y_test)\n",
    "\n",
    "    dataset_test = dataset_train[0:10]\n",
    "    \n",
    "    return dataset_train,dataset_test\n"
   ]
  },
  {
   "cell_type": "code",
   "execution_count": 12,
   "metadata": {},
   "outputs": [
    {
     "ename": "NameError",
     "evalue": "name '__file__' is not defined",
     "output_type": "error",
     "traceback": [
      "\u001b[0;31m---------------------------------------------------------------------------\u001b[0m",
      "\u001b[0;31mNameError\u001b[0m                                 Traceback (most recent call last)",
      "\u001b[0;32m/tmp/ipykernel_6102/2136040165.py\u001b[0m in \u001b[0;36m<module>\u001b[0;34m\u001b[0m\n\u001b[0;32m----> 1\u001b[0;31m \u001b[0mdataset_train\u001b[0m\u001b[0;34m,\u001b[0m\u001b[0mdataset_test\u001b[0m\u001b[0;34m=\u001b[0m \u001b[0mload_rotated_mnist\u001b[0m\u001b[0;34m(\u001b[0m\u001b[0;34m)\u001b[0m\u001b[0;34m\u001b[0m\u001b[0;34m\u001b[0m\u001b[0m\n\u001b[0m",
      "\u001b[0;32m/tmp/ipykernel_6102/1685441881.py\u001b[0m in \u001b[0;36mload_rotated_mnist\u001b[0;34m()\u001b[0m\n\u001b[1;32m      7\u001b[0m     \u001b[0mmnist_path\u001b[0m \u001b[0;34m=\u001b[0m \u001b[0;34m\"../data/rotated_mnist.npz\"\u001b[0m\u001b[0;34m\u001b[0m\u001b[0;34m\u001b[0m\u001b[0m\n\u001b[1;32m      8\u001b[0m     \u001b[0;32mif\u001b[0m \u001b[0;32mnot\u001b[0m \u001b[0mos\u001b[0m\u001b[0;34m.\u001b[0m\u001b[0mpath\u001b[0m\u001b[0;34m.\u001b[0m\u001b[0misfile\u001b[0m\u001b[0;34m(\u001b[0m\u001b[0mmnist_path\u001b[0m\u001b[0;34m)\u001b[0m\u001b[0;34m:\u001b[0m\u001b[0;34m\u001b[0m\u001b[0;34m\u001b[0m\u001b[0m\n\u001b[0;32m----> 9\u001b[0;31m         \u001b[0mmnist_path\u001b[0m \u001b[0;34m=\u001b[0m \u001b[0mos\u001b[0m\u001b[0;34m.\u001b[0m\u001b[0mpath\u001b[0m\u001b[0;34m.\u001b[0m\u001b[0mjoin\u001b[0m\u001b[0;34m(\u001b[0m\u001b[0mos\u001b[0m\u001b[0;34m.\u001b[0m\u001b[0mpath\u001b[0m\u001b[0;34m.\u001b[0m\u001b[0mdirname\u001b[0m\u001b[0;34m(\u001b[0m\u001b[0mos\u001b[0m\u001b[0;34m.\u001b[0m\u001b[0mpath\u001b[0m\u001b[0;34m.\u001b[0m\u001b[0mabspath\u001b[0m\u001b[0;34m(\u001b[0m\u001b[0m__file__\u001b[0m\u001b[0;34m)\u001b[0m\u001b[0;34m)\u001b[0m\u001b[0;34m,\u001b[0m \u001b[0;34m\"data/rotated_mnist.npz\"\u001b[0m\u001b[0;34m)\u001b[0m\u001b[0;34m\u001b[0m\u001b[0;34m\u001b[0m\u001b[0m\n\u001b[0m\u001b[1;32m     10\u001b[0m \u001b[0;34m\u001b[0m\u001b[0m\n\u001b[1;32m     11\u001b[0m     \u001b[0mdata\u001b[0m \u001b[0;34m=\u001b[0m \u001b[0mnp\u001b[0m\u001b[0;34m.\u001b[0m\u001b[0mload\u001b[0m\u001b[0;34m(\u001b[0m\u001b[0mmnist_path\u001b[0m\u001b[0;34m)\u001b[0m\u001b[0;34m\u001b[0m\u001b[0;34m\u001b[0m\u001b[0m\n",
      "\u001b[0;31mNameError\u001b[0m: name '__file__' is not defined"
     ]
    }
   ],
   "source": [
    "dataset_train,dataset_test= load_rotated_mnist()"
   ]
  },
  {
   "cell_type": "code",
   "execution_count": null,
   "metadata": {},
   "outputs": [],
   "source": [
    "print(dataset_train.tensors[0])\n",
    "print(dataset_train)\n",
    "dataset_test[0].shape"
   ]
  },
  {
   "cell_type": "code",
   "execution_count": null,
   "metadata": {},
   "outputs": [],
   "source": [
    "#test output probabilities\n"
   ]
  }
 ],
 "metadata": {
  "kernelspec": {
   "display_name": "Python 3 (ipykernel)",
   "language": "python",
   "name": "python3"
  },
  "language_info": {
   "codemirror_mode": {
    "name": "ipython",
    "version": 3
   },
   "file_extension": ".py",
   "mimetype": "text/x-python",
   "name": "python",
   "nbconvert_exporter": "python",
   "pygments_lexer": "ipython3",
   "version": "3.7.11"
  }
 },
 "nbformat": 4,
 "nbformat_minor": 4
}
